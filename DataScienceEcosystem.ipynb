{
 "cells": [
  {
   "cell_type": "markdown",
   "metadata": {},
   "source": [
    "<center>\n",
    "    <img src=\"https://cf-courses-data.s3.us.cloud-object-storage.appdomain.cloud/IBMDeveloperSkillsNetwork-DS0105EN-SkillsNetwork/labs/Module2/images/SN_web_lightmode.png\" width=\"300\" alt=\"cognitiveclass.ai logo\">\n",
    "</center>\n"
   ]
  },
  {
   "cell_type": "markdown",
   "metadata": {
    "tags": []
   },
   "source": [
    "# Data Science Notebook\n"
   ]
  },
  {
   "cell_type": "markdown",
   "metadata": {},
   "source": [
    "## Introduction\n",
    "Welcome to the Data Science Notebook!\n",
    "\n",
    "In this notebook, we'll explore various data science concepts, tools, and techniques, from exploratory analysis to machine learning. Get ready for a journey through the fundamentals and practical applications of data science, where you'll learn about common languages, libraries, and tools used in the industry. Let's embark on our journey to mastering data science together!\n"
   ]
  },
  {
   "cell_type": "markdown",
   "metadata": {
    "jp-MarkdownHeadingCollapsed": true,
    "tags": []
   },
   "source": [
    "## Data Science Languages\n",
    "1. Python\n",
    "2. R\n",
    "3. SQL \n",
    "4. Julia \n",
    "5. C++"
   ]
  },
  {
   "cell_type": "markdown",
   "metadata": {
    "jp-MarkdownHeadingCollapsed": true,
    "tags": []
   },
   "source": [
    "## Data Science Libraries\n",
    "- Pandas\n",
    "- NumPy\n",
    "- Matplotlib\n",
    "- Seaborn\n",
    "- Scikit-learn\n"
   ]
  },
  {
   "cell_type": "markdown",
   "metadata": {},
   "source": [
    "## Data Science Tools\n",
    "| Tool             | Description                                     |\n",
    "|------------------|-------------------------------------------------|\n",
    "| Jupyter Notebook | Interactive environment for data analysis       |\n",
    "| RStudio          | Integrated Development Environment (IDE) for R  |\n",
    "| SQL Server       | Relational database management system (RDBMS)   |\n",
    "| TensorFlow       | Open-source machine learning framework          |\n",
    "| PyTorch          | Machine learning library for Python             |\n"
   ]
  },
  {
   "cell_type": "markdown",
   "metadata": {},
   "source": [
    "## Examples of Arithmetic Expressions\n",
    "We can perform simple mathematical operations such as:\n",
    "- Addition: 5 + 3\n",
    "- Subtraction: 10 - 4\n",
    "- Multiplication: 6 * 7\n"
   ]
  },
  {
   "cell_type": "code",
   "execution_count": 1,
   "metadata": {},
   "outputs": [
    {
     "name": "stdout",
     "output_type": "stream",
     "text": [
      "Multiplication: 15\n",
      "Addition: 8\n"
     ]
    }
   ],
   "source": [
    "# Multiplication and addition of numbers\n",
    "a = 5\n",
    "b = 3\n",
    "multiplication = a * b\n",
    "addition = a + b\n",
    "print(\"Multiplication:\", multiplication)\n",
    "print(\"Addition:\", addition)\n"
   ]
  },
  {
   "cell_type": "code",
   "execution_count": 2,
   "metadata": {},
   "outputs": [
    {
     "name": "stdout",
     "output_type": "stream",
     "text": [
      "Hours: 2.0\n"
     ]
    }
   ],
   "source": [
    "# Convert minutes to hours\n",
    "minutes = 120\n",
    "hours = minutes / 60\n",
    "print(\"Hours:\", hours)\n"
   ]
  },
  {
   "cell_type": "code",
   "execution_count": 3,
   "metadata": {},
   "outputs": [
    {
     "name": "stdout",
     "output_type": "stream",
     "text": [
      "Objective 1: Learn Python\n",
      "Objective 2: Master data analysis\n",
      "Objective 3: Explore machine learning\n"
     ]
    }
   ],
   "source": [
    "# List Objectives\n",
    "objectives = [\"Learn Python\", \"Master data analysis\", \"Explore machine learning\"]\n",
    "for index, obj in enumerate(objectives, start=1):\n",
    "    print(f\"Objective {index}: {obj}\")\n"
   ]
  },
  {
   "cell_type": "markdown",
   "metadata": {},
   "source": [
    "## Author\n",
    "This notebook was created by\n",
    "# Francisca López Neubauer"
   ]
  }
 ],
 "metadata": {
  "kernelspec": {
   "display_name": "Python",
   "language": "python",
   "name": "conda-env-python-py"
  },
  "language_info": {
   "codemirror_mode": {
    "name": "ipython",
    "version": 3
   },
   "file_extension": ".py",
   "mimetype": "text/x-python",
   "name": "python",
   "nbconvert_exporter": "python",
   "pygments_lexer": "ipython3",
   "version": "3.7.12"
  }
 },
 "nbformat": 4,
 "nbformat_minor": 4
}
